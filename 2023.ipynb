{
 "cells": [
  {
   "cell_type": "markdown",
   "metadata": {},
   "source": [
    "# Zivnost"
   ]
  },
  {
   "cell_type": "code",
   "execution_count": null,
   "metadata": {},
   "outputs": [],
   "source": [
    "# https://podpora.financnasprava.sk/938857-Sadzba-dane-za-rok-2023\n",
    "# https://www.zakonypreludi.sk/zz/2003-595#f2969587"
   ]
  },
  {
   "cell_type": "code",
   "execution_count": 1,
   "metadata": {},
   "outputs": [],
   "source": [
    "HRANICA_NA_PODANIE_DANE = 2461.41\n",
    "HRANICA_NA_VYSSIE_DANE = 41445.46\n",
    "DANE_MALE = 0.19\n",
    "DANE_VELKE = 0.25\n",
    "DANE_SUPER_MALE = 0.15\n",
    "PLATCA_DPH_HRANICA = 49790\n",
    "ZIVOTNE_MINIMUM_2023 = 234.42\n",
    "ZIVOTNE_MINIMUM_2024 = 268.88\n",
    "\n",
    "PLNE_NEZDANITELNE_MINIMUM_HRANICA = ZIVOTNE_MINIMUM_2023 * 93.8\n",
    "HRANICA_NA_SOCIALKU = 7266\n",
    "MINIMALNY_VYMERIAVACI_ZAKLAD = 605.50\n",
    "MAXIMALNY_VYMERIAVACI_ZAKLAD = 8477\n"
   ]
  },
  {
   "cell_type": "code",
   "execution_count": 7,
   "metadata": {},
   "outputs": [
    {
     "data": {
      "text/plain": [
       "(21988.595999999998, 41445.456)"
      ]
     },
     "execution_count": 7,
     "metadata": {},
     "output_type": "execute_result"
    }
   ],
   "source": [
    "NASOBOK_SPODNA_HRANICA = 21\n",
    "NASOBOK_VELKY = 44.2\n",
    "\n",
    "def vyrata_nezdanitelne_minimum(zaklad_dane):\n",
    "    if zaklad_dane <= PLNE_NEZDANITELNE_MINIMUM_HRANICA:\n",
    "        return NASOBOK_SPODNA_HRANICA*ZIVOTNE_MINIMUM_2023\n",
    "    else:\n",
    "        return max(0, NASOBOK_VELKY*ZIVOTNE_MINIMUM_2023 - 0.25*zaklad_dane)\n",
    "    \n",
    "HRANICNY_ZAKLAD = 4*NASOBOK_VELKY*ZIVOTNE_MINIMUM_2023\n",
    "PLNE_NEZDANITELNE_MINIMUM_HRANICA, HRANICNY_ZAKLAD"
   ]
  },
  {
   "cell_type": "code",
   "execution_count": 2,
   "metadata": {},
   "outputs": [
    {
     "data": {
      "text/plain": [
       "21988.595999999998"
      ]
     },
     "execution_count": 2,
     "metadata": {},
     "output_type": "execute_result"
    }
   ],
   "source": [
    "PLNE_NEZDANITELNE_MINIMUM_HRANICA"
   ]
  },
  {
   "cell_type": "code",
   "execution_count": 14,
   "metadata": {},
   "outputs": [],
   "source": [
    "income = 0. # prijem\n",
    "expences = 0. # vydavky, respektive strata\n",
    "\n",
    "zdanitelne_prijmy = 10_000 #\n",
    "zaklad_dane = zdanitelne_prijmy\n"
   ]
  },
  {
   "cell_type": "code",
   "execution_count": null,
   "metadata": {},
   "outputs": [],
   "source": []
  },
  {
   "cell_type": "code",
   "execution_count": 16,
   "metadata": {},
   "outputs": [
    {
     "data": {
      "text/plain": [
       "(185.90174966352623, 78.51054284432482)"
      ]
     },
     "execution_count": 16,
     "metadata": {},
     "output_type": "execute_result"
    }
   ],
   "source": [
    "vymeriavaci_zaklad = (1./12 * zaklad_dane)/1.486 \n",
    "socialka = vymeriavaci_zaklad* 0.3315\n",
    "zdravotka = vymeriavaci_zaklad * 0.14\n",
    "\n",
    "socialka, zdravotka"
   ]
  },
  {
   "cell_type": "code",
   "execution_count": 8,
   "metadata": {},
   "outputs": [
    {
     "ename": "NameError",
     "evalue": "name 'zdanitelne_prijmy' is not defined",
     "output_type": "error",
     "traceback": [
      "\u001b[0;31m---------------------------------------------------------------------------\u001b[0m",
      "\u001b[0;31mNameError\u001b[0m                                 Traceback (most recent call last)",
      "\u001b[1;32m/home/vlejd/code/tax-systems/2023.ipynb Cell 7\u001b[0m line \u001b[0;36m1\n\u001b[0;32m----> <a href='vscode-notebook-cell:/home/vlejd/code/tax-systems/2023.ipynb#W4sZmlsZQ%3D%3D?line=0'>1</a>\u001b[0m musim_podat \u001b[39m=\u001b[39m zdanitelne_prijmy \u001b[39m>\u001b[39m HRANICA_NA_PODANIE_DANE\n\u001b[1;32m      <a href='vscode-notebook-cell:/home/vlejd/code/tax-systems/2023.ipynb#W4sZmlsZQ%3D%3D?line=1'>2</a>\u001b[0m musim_podat\n",
      "\u001b[0;31mNameError\u001b[0m: name 'zdanitelne_prijmy' is not defined"
     ]
    }
   ],
   "source": [
    "musim_podat = zdanitelne_prijmy > HRANICA_NA_PODANIE_DANE\n",
    "musim_podat"
   ]
  },
  {
   "cell_type": "code",
   "execution_count": null,
   "metadata": {},
   "outputs": [],
   "source": []
  }
 ],
 "metadata": {
  "kernelspec": {
   "display_name": "tax-systems",
   "language": "python",
   "name": "python3"
  },
  "language_info": {
   "codemirror_mode": {
    "name": "ipython",
    "version": 3
   },
   "file_extension": ".py",
   "mimetype": "text/x-python",
   "name": "python",
   "nbconvert_exporter": "python",
   "pygments_lexer": "ipython3",
   "version": "3.11.2"
  },
  "orig_nbformat": 4
 },
 "nbformat": 4,
 "nbformat_minor": 2
}
